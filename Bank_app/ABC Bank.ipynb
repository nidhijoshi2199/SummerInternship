{
 "cells": [
  {
   "cell_type": "code",
   "execution_count": 13,
   "metadata": {},
   "outputs": [],
   "source": [
    "import os\n",
    "import json\n",
    "from getpass import getpass\n",
    "import time \n",
    "import shelve\n",
    "\n",
    "\n",
    "\n",
    "bank = { \n",
    "    \n",
    "    1001 : { 'name':'ram', 'bal':5000,'password':'heyram'},\n",
    "    1002 : { 'name':'john','bal':45000,'password':'jhon@cena'},\n",
    "    1003 : { 'name':'yahoo','bal':24342,'password':'google'}\n",
    "    \n",
    "}"
   ]
  },
  {
   "cell_type": "code",
   "execution_count": 2,
   "metadata": {},
   "outputs": [
    {
     "ename": "NameError",
     "evalue": "name 'register' is not defined",
     "output_type": "error",
     "traceback": [
      "\u001b[1;31m---------------------------------------------------------------------------\u001b[0m",
      "\u001b[1;31mNameError\u001b[0m                                 Traceback (most recent call last)",
      "\u001b[1;32m<ipython-input-2-090e698c4bc5>\u001b[0m in \u001b[0;36m<module>\u001b[1;34m\u001b[0m\n\u001b[1;32m----> 1\u001b[1;33m \u001b[0mregister\u001b[0m\u001b[1;33m(\u001b[0m\u001b[1;33m)\u001b[0m\u001b[1;33m\u001b[0m\u001b[1;33m\u001b[0m\u001b[0m\n\u001b[0m",
      "\u001b[1;31mNameError\u001b[0m: name 'register' is not defined"
     ]
    }
   ],
   "source": [
    "register()"
   ]
  },
  {
   "cell_type": "code",
   "execution_count": 3,
   "metadata": {},
   "outputs": [],
   "source": [
    "#file created with user id and password for every unique user with file name as acc. no\n",
    "def register():\n",
    "    for key,value in bank.items():\n",
    "        name = str(key)+\".json\"\n",
    "        path = 'D:\\\\Documents\\\\Desktop\\\\training\\\\Python\\\\Bank_app\\\\'+name\n",
    "        fp=open(path,'w')\n",
    "        json.dump(value,fp)\n",
    "        fp.close()\n"
   ]
  },
  {
   "cell_type": "code",
   "execution_count": 4,
   "metadata": {},
   "outputs": [],
   "source": [
    "def login(acc_no,password):\n",
    "    name = \"D:\\\\Documents\\\\Desktop\\\\training\\\\Python\\\\Bank_app\\\\\"+acc_no+'.json'\n",
    "    fp = open(name)\n",
    "    data = json.load(fp)\n",
    "    p = data['password']\n",
    "    fp.close()\n",
    "    if(password == p):\n",
    "        print(\"Successful login\")\n",
    "        info(acc_no)\n",
    "        return True\n",
    "    else:\n",
    "        print(\"Access Denied\")\n"
   ]
  },
  {
   "cell_type": "code",
   "execution_count": 5,
   "metadata": {},
   "outputs": [],
   "source": [
    "#credit Function\n",
    "\n",
    "\n",
    "def credit(acc_no,amt):\n",
    "    name = \"D:\\\\Documents\\\\Desktop\\\\training\\\\Python\\\\Bank_app\\\\\"+acc_no+'.json'\n",
    "    if acc_no+'.json' in os.listdir(\"D:\\\\Documents\\\\Desktop\\\\training\\\\Python\\\\Bank_app\\\\\"):\n",
    "        fp = open(name)\n",
    "        data1 = json.load(fp)\n",
    "        d = data1['bal']\n",
    "        fp.close()\n",
    "        print(f\"Previous Amount Rs. {d}\")\n",
    "        d=d+amt\n",
    "        print(f\"Amount Credited. New balance Rs. {d}\")\n",
    "        data1['bal']=d\n",
    "        print(\"Updated Successfully\")\n",
    "        fp = open(name,'w')\n",
    "        json.dump(data1,fp)\n",
    "        fp.close()\n",
    "    else:\n",
    "        print(\"No such User Exists\")"
   ]
  },
  {
   "cell_type": "code",
   "execution_count": 6,
   "metadata": {},
   "outputs": [],
   "source": [
    "def info (acc_no):\n",
    "    name = 'D:\\\\Documents\\\\Desktop\\\\training\\\\Python\\\\Bank_app\\\\'+acc_no+'.json'\n",
    "    if acc_no+\".json\" in os.listdir('D:\\\\Documents\\\\Desktop\\\\training\\\\Python\\\\Bank_app\\\\'):\n",
    "        fp=open(name)\n",
    "        data1=json.load(fp)\n",
    "        fp.close()\n",
    "        print(data1)\n",
    "    else:\n",
    "        print(\"no such user exists\")\n"
   ]
  },
  {
   "cell_type": "code",
   "execution_count": null,
   "metadata": {},
   "outputs": [],
   "source": []
  },
  {
   "cell_type": "code",
   "execution_count": 7,
   "metadata": {},
   "outputs": [],
   "source": [
    "def entry():\n",
    "    print('''Press the following keys and press enter for the desired choice:''')\n",
    "    print(\" 1. Login \\n 2. Credit\\n 3. Debit \\n 4. Register as new User\\n\")\n",
    "    choice = int(input(\"Enter the choice: \"))\n",
    "    if choice==1:\n",
    "        acc=input(\"Enter acc \")\n",
    "        passwd = getpass(\"Enter password \")\n",
    "        login(acc,passwd)\n",
    "    elif choice == 2:\n",
    "        acc= input(\"Enter acc: \")\n",
    "        amount = int((input(\"Enter the amount to be credited: \")))\n",
    "        credit(acc,amount)\n",
    "    elif choice==3:\n",
    "        acc=input(\"Enter acc \")\n",
    "        passwd = getpass(\"Enter password \")\n",
    "        debit(acc,passwd)\n",
    "    elif choice==4:\n",
    "        print(\"Enter the following details: \")\n",
    "        name = input(\"Enter your name: \")\n",
    "        bal = int(input(\"Enter the amount to be added: \"))\n",
    "        passwd = getpass(\"Enter your password: \")\n",
    "        vpasswd = getpass(\"Verify your password:\")\n",
    "        if (passwd == vpasswd):\n",
    "            signup(name,bal,passwd)\n",
    "        else:\n",
    "            print(\"Your passwords Doesnt matched. Try again\")\n",
    "            entry()\n",
    "    else:\n",
    "        print(\"\\n\\n----Invalid Choice. Try a valid choice----\\n\")\n",
    "        entry()"
   ]
  },
  {
   "cell_type": "code",
   "execution_count": 8,
   "metadata": {},
   "outputs": [
    {
     "data": {
      "text/plain": [
       "['.ipynb_checkpoints', '1001.json', '1002.json', '1003.json', 'ABC Bank.ipynb']"
      ]
     },
     "execution_count": 8,
     "metadata": {},
     "output_type": "execute_result"
    }
   ],
   "source": [
    "os.listdir('D:\\\\Documents\\\\Desktop\\\\training\\\\Python\\\\Bank_app\\\\')"
   ]
  },
  {
   "cell_type": "code",
   "execution_count": 9,
   "metadata": {},
   "outputs": [],
   "source": [
    "def debit (acc_no,password,amt=0):\n",
    "    name = \"D:\\\\Documents\\\\Desktop\\\\training\\\\Python\\\\Bank_app\\\\\"+acc_no+'.json'\n",
    "    if login(acc_no,password):\n",
    "        amt = int(input(\"Please enter the amount you want to debit\"))\n",
    "        fp = open(name)\n",
    "        data1 = json.load(fp)\n",
    "        d=data1['bal']\n",
    "        if(d<amt):\n",
    "            print(\"Insufficient Balance\")\n",
    "        d = d-amt\n",
    "        data1['bal']= d\n",
    "        print(f\"Amount Debited.\\n Current Balance is Rs. {d}\")\n",
    "        fp = open(name,'w')\n",
    "        json.dump(data1,fp)\n",
    "    else:\n",
    "        print(\"Wrong psswd. Try Again\")"
   ]
  },
  {
   "cell_type": "code",
   "execution_count": 11,
   "metadata": {},
   "outputs": [
    {
     "name": "stdout",
     "output_type": "stream",
     "text": [
      "Welcome to ABC Bank Pvt. Ltd.\n",
      "Press the following keys and press enter for the desired choice:\n",
      " 1. Login \n",
      " 2. Credit\n",
      " 3. Debit \n",
      " 4. Register as new User\n",
      "\n",
      "Enter the choice: 1\n",
      "Enter acc 1001\n",
      "Enter password ········\n",
      "Successful login\n",
      "{'name': 'ram', 'bal': 5000, 'password': 'heyram'}\n"
     ]
    }
   ],
   "source": [
    "print(\"Welcome to ABC Bank Pvt. Ltd.\")\n",
    "\n",
    "noOfAccount=1003\n",
    "entry()\n"
   ]
  },
  {
   "cell_type": "code",
   "execution_count": 12,
   "metadata": {},
   "outputs": [],
   "source": [
    "db = shelve.open(\"bank_app/bank.db\",writeback=True)\n",
    "db['1001'] = '1001'\n",
    "db['1002'] = '1002'\n",
    "db['1003'] = '1003'\n",
    "db['last_acc'] = '1003'\n",
    "db.close()"
   ]
  },
  {
   "cell_type": "code",
   "execution_count": null,
   "metadata": {},
   "outputs": [],
   "source": [
    "def signup(name,bal,password):\n",
    "    db = shelve.open(\"bank_warehouse/bank.db\",writeback=True)\n",
    "    acc = int(db.get('last_acc'))\n",
    "    acc = str(acc + 1)\n",
    "    db['last_acc'] = acc\n",
    "    user = { 'name':name,'password':password,'bal':bal}\n",
    "    db[acc] = user\n",
    "    db.close()\n",
    "    print(\"User account Created Sucessfully\")\n",
    "    print(\"Note down your acc number : \",acc)"
   ]
  },
  {
   "cell_type": "code",
   "execution_count": null,
   "metadata": {},
   "outputs": [],
   "source": [
    "def get(acc_no):\n",
    "    db = shelve.open('bank_warehouse/bank.db')\n",
    "    data = db.get(acc_no,False)\n",
    "    if data : \n",
    "        for key,value in data.items():\n",
    "            print(key,\"=\",value)\n",
    "    else : \n",
    "        print(\"No such user exists\")"
   ]
  },
  {
   "cell_type": "code",
   "execution_count": null,
   "metadata": {},
   "outputs": [],
   "source": []
  }
 ],
 "metadata": {
  "kernelspec": {
   "display_name": "Python 3",
   "language": "python",
   "name": "python3"
  },
  "language_info": {
   "codemirror_mode": {
    "name": "ipython",
    "version": 3
   },
   "file_extension": ".py",
   "mimetype": "text/x-python",
   "name": "python",
   "nbconvert_exporter": "python",
   "pygments_lexer": "ipython3",
   "version": "3.7.3"
  }
 },
 "nbformat": 4,
 "nbformat_minor": 2
}
