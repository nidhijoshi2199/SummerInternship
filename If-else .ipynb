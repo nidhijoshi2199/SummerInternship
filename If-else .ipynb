{
 "cells": [
  {
   "cell_type": "code",
   "execution_count": null,
   "metadata": {},
   "outputs": [],
   "source": [
    "#atm machine\n",
    "\n"
   ]
  },
  {
   "cell_type": "code",
   "execution_count": null,
   "metadata": {},
   "outputs": [],
   "source": [
    "if True:\n",
    "    print"
   ]
  },
  {
   "cell_type": "code",
   "execution_count": 1,
   "metadata": {},
   "outputs": [
    {
     "name": "stdout",
     "output_type": "stream",
     "text": [
      "Hello\n"
     ]
    }
   ],
   "source": [
    "print(\"Hello\") if True else print(\"Bye\")"
   ]
  },
  {
   "cell_type": "code",
   "execution_count": 2,
   "metadata": {},
   "outputs": [
    {
     "name": "stdout",
     "output_type": "stream",
     "text": [
      "Bye\n"
     ]
    }
   ],
   "source": [
    "print(\"Hello\") if False else print(\"Bye\")"
   ]
  },
  {
   "cell_type": "code",
   "execution_count": 3,
   "metadata": {},
   "outputs": [
    {
     "name": "stdout",
     "output_type": "stream",
     "text": [
      "even\n"
     ]
    }
   ],
   "source": [
    "n=13\n",
    "print(\"even\") if n%2 else print(\"odd\")"
   ]
  },
  {
   "cell_type": "code",
   "execution_count": 11,
   "metadata": {},
   "outputs": [
    {
     "name": "stdout",
     "output_type": "stream",
     "text": [
      "Enter age18\n",
      "First time\n"
     ]
    }
   ],
   "source": [
    "age=int(input(\"Enter age\"))\n",
    "if age>18:\n",
    "    print(\"can vote\")\n",
    "elif age==18:\n",
    "    print(\"First time\")\n",
    "else:\n",
    "    print(\"cant vote\")"
   ]
  },
  {
   "cell_type": "code",
   "execution_count": 13,
   "metadata": {},
   "outputs": [
    {
     "name": "stdout",
     "output_type": "stream",
     "text": [
      "Enter teh amount200\n",
      "IPL\n"
     ]
    }
   ],
   "source": [
    "amt = int(input(\"Enter the amount\"))\n",
    "if amt>1000:\n",
    "    print(\"Movie\")\n",
    "elif amt>800:\n",
    "    print(\"restro\")\n",
    "else:\n",
    "    print(\"IPL\")"
   ]
  },
  {
   "cell_type": "code",
   "execution_count": null,
   "metadata": {},
   "outputs": [],
   "source": [
    "#Give loan "
   ]
  },
  {
   "cell_type": "code",
   "execution_count": 2,
   "metadata": {},
   "outputs": [
    {
     "name": "stdout",
     "output_type": "stream",
     "text": [
      "Are you Govt Employee or not ?yes\n",
      "Enter your salary: 80000\n",
      "Loan passed\n"
     ]
    }
   ],
   "source": [
    "job=input(\"Are you Govt Employee or not ?\")\n",
    "job=job.strip().lower()\n",
    "if(job == \"yes\"):\n",
    "    sal=int(input(\"Enter your salary: \"))\n",
    "    if(sal>=50000):\n",
    "        print(\"Loan passed\")\n",
    "    else:\n",
    "        print(\"Sorry, No loan \")\n",
    "else:\n",
    "    print(\"Not Eligible\")"
   ]
  },
  {
   "cell_type": "code",
   "execution_count": 6,
   "metadata": {},
   "outputs": [
    {
     "name": "stdout",
     "output_type": "stream",
     "text": [
      "Enter the values of a,b,c\n",
      "a=4\n",
      "b=7\n",
      "c=9\n",
      "c is greatest\n"
     ]
    }
   ],
   "source": [
    "print(\"Enter the values of a,b,c\")\n",
    "a=int(input(\"a=\"))\n",
    "b=int(input(\"b=\"))\n",
    "c=int(input(\"c=\"))\n",
    "if(a>b):\n",
    "    if(a>c):\n",
    "        print(\"a is greatest\")\n",
    "    else:\n",
    "        print(\"c is greatest\")\n",
    "elif(b>c):\n",
    "    if(b>a):\n",
    "        print(\"b is greatest\")\n",
    "else:\n",
    "    print(\"c is greatest\")"
   ]
  },
  {
   "cell_type": "code",
   "execution_count": 9,
   "metadata": {},
   "outputs": [
    {
     "name": "stdout",
     "output_type": "stream",
     "text": [
      "Enter the values of a,b,c\n",
      "a=9\n",
      "b=7\n",
      "c=7\n",
      "a is greatest\n"
     ]
    }
   ],
   "source": [
    " print(\"Enter the values of a,b,c\")\n",
    "a=int(input(\"a=\"))\n",
    "b=int(input(\"b=\"))\n",
    "c=int(input(\"c=\"))\n",
    "if(a>b) and (a>c):\n",
    "        print(\"a is greatest\")\n",
    "elif(b>c):\n",
    "    if(b>a):\n",
    "        print(\"b is greatest\")\n",
    "else:\n",
    "    print(\"c is greatest\")"
   ]
  },
  {
   "cell_type": "code",
   "execution_count": 13,
   "metadata": {},
   "outputs": [
    {
     "name": "stdout",
     "output_type": "stream",
     "text": [
      "Player 1········\n",
      "Player 2········\n",
      "player 2 won\n"
     ]
    }
   ],
   "source": [
    "from getpass import getpass\n",
    "a=getpass(\"Player 1\")\n",
    "b=getpass(\"Player 2\")\n",
    "a=a.strip().lower()\n",
    "\n",
    "if(a==\"rock\" and b==\"paper\"):\n",
    "    print(\"Player 2 won\")\n",
    "elif(a==\"paper\" and b==\"scissor\"):\n",
    "    print(\"Player 2 won\")\n",
    "elif(a==\"scissor\" and b==\"rock\"):\n",
    "    print(\"player 2 won\")\n",
    "elif(a==b):\n",
    "    print(\"Tie\")\n",
    "else:\n",
    "    print(\"Player 1 won\")"
   ]
  },
  {
   "cell_type": "raw",
   "metadata": {},
   "source": []
  }
 ],
 "metadata": {
  "kernelspec": {
   "display_name": "Python 3",
   "language": "python",
   "name": "python3"
  },
  "language_info": {
   "codemirror_mode": {
    "name": "ipython",
    "version": 3
   },
   "file_extension": ".py",
   "mimetype": "text/x-python",
   "name": "python",
   "nbconvert_exporter": "python",
   "pygments_lexer": "ipython3",
   "version": "3.7.3"
  }
 },
 "nbformat": 4,
 "nbformat_minor": 2
}
