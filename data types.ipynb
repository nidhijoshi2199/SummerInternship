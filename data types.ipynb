{
 "cells": [
  {
   "cell_type": "code",
   "execution_count": 1,
   "metadata": {},
   "outputs": [
    {
     "name": "stdout",
     "output_type": "stream",
     "text": [
      "Help on built-in function print in module builtins:\n",
      "\n",
      "print(...)\n",
      "    print(value, ..., sep=' ', end='\\n', file=sys.stdout, flush=False)\n",
      "    \n",
      "    Prints the values to a stream, or to sys.stdout by default.\n",
      "    Optional keyword arguments:\n",
      "    file:  a file-like object (stream); defaults to the current sys.stdout.\n",
      "    sep:   string inserted between values, default a space.\n",
      "    end:   string appended after the last value, default a newline.\n",
      "    flush: whether to forcibly flush the stream.\n",
      "\n"
     ]
    }
   ],
   "source": [
    "help(print)    #shows info about each and every predefined function"
   ]
  },
  {
   "cell_type": "code",
   "execution_count": null,
   "metadata": {},
   "outputs": [],
   "source": [
    "print(\"one\",\"two\",\"three\", sep=\"\\n\", end=\"\\t\") #end:   string appended after the last value, default a newline.\n",
    "    #flush: whether to forcibly flush the stream.\n",
    "print(\"Heyy\")"
   ]
  },
  {
   "cell_type": "code",
   "execution_count": 6,
   "metadata": {},
   "outputs": [],
   "source": [
    "file = open(\"output.txt\",\"w\")\n",
    "for var in range(10):\n",
    "    print(\"*\",var,file=file)"
   ]
  },
  {
   "cell_type": "code",
   "execution_count": 7,
   "metadata": {},
   "outputs": [],
   "source": [
    "file.close()"
   ]
  },
  {
   "cell_type": "code",
   "execution_count": 8,
   "metadata": {},
   "outputs": [
    {
     "name": "stdout",
     "output_type": "stream",
     "text": [
      "Help on method raw_input in module ipykernel.kernelbase:\n",
      "\n",
      "raw_input(prompt='') method of ipykernel.ipkernel.IPythonKernel instance\n",
      "    Forward raw_input to frontends\n",
      "    \n",
      "    Raises\n",
      "    ------\n",
      "    StdinNotImplentedError if active frontend doesn't support stdin.\n",
      "\n"
     ]
    }
   ],
   "source": [
    "help(input)"
   ]
  },
  {
   "cell_type": "markdown",
   "metadata": {},
   "source": [
    "# head\n",
    "## head\n"
   ]
  },
  {
   "cell_type": "code",
   "execution_count": 9,
   "metadata": {},
   "outputs": [],
   "source": [
    "import re    #regular expression"
   ]
  },
  {
   "cell_type": "code",
   "execution_count": 11,
   "metadata": {},
   "outputs": [
    {
     "name": "stdout",
     "output_type": "stream",
     "text": [
      "['__abs__', '__add__', '__and__', '__bool__', '__ceil__', '__class__', '__delattr__', '__dir__', '__divmod__', '__doc__', '__eq__', '__float__', '__floor__', '__floordiv__', '__format__', '__ge__', '__getattribute__', '__getnewargs__', '__gt__', '__hash__', '__index__', '__init__', '__init_subclass__', '__int__', '__invert__', '__le__', '__lshift__', '__lt__', '__mod__', '__mul__', '__ne__', '__neg__', '__new__', '__or__', '__pos__', '__pow__', '__radd__', '__rand__', '__rdivmod__', '__reduce__', '__reduce_ex__', '__repr__', '__rfloordiv__', '__rlshift__', '__rmod__', '__rmul__', '__ror__', '__round__', '__rpow__', '__rrshift__', '__rshift__', '__rsub__', '__rtruediv__', '__rxor__', '__setattr__', '__sizeof__', '__str__', '__sub__', '__subclasshook__', '__truediv__', '__trunc__', '__xor__', 'bit_length', 'conjugate', 'denominator', 'from_bytes', 'imag', 'numerator', 'real', 'to_bytes']\n"
     ]
    }
   ],
   "source": [
    "x=5\n",
    "print(dir(x))"
   ]
  },
  {
   "cell_type": "code",
   "execution_count": 14,
   "metadata": {},
   "outputs": [
    {
     "data": {
      "text/plain": [
       "'hello world'"
      ]
     },
     "execution_count": 14,
     "metadata": {},
     "output_type": "execute_result"
    }
   ],
   "source": [
    "\"hello \".__add__(\"world\")"
   ]
  },
  {
   "cell_type": "markdown",
   "metadata": {},
   "source": [
    "# heading 1\n",
    "## heading 1\n",
    "### heading 1\n",
    "#### heading 1\n",
    "##### heading 1\n",
    "###### heading 1"
   ]
  },
  {
   "cell_type": "code",
   "execution_count": 6,
   "metadata": {},
   "outputs": [
    {
     "name": "stdout",
     "output_type": "stream",
     "text": [
      "['False', 'None', 'True', 'and', 'as', 'assert', 'async', 'await', 'break', 'class', 'continue', 'def', 'del', 'elif', 'else', 'except', 'finally', 'for', 'from', 'global', 'if', 'import', 'in', 'is', 'lambda', 'nonlocal', 'not', 'or', 'pass', 'raise', 'return', 'try', 'while', 'with', 'yield']\n",
      "No of keywords:  35\n",
      "['__all__', '__builtins__', '__cached__', '__doc__', '__file__', '__loader__', '__name__', '__package__', '__spec__', 'iskeyword', 'kwlist', 'main']\n"
     ]
    }
   ],
   "source": [
    "import keyword\n",
    "print(keyword.kwlist)    #necessay to import keyword library \n",
    "#kwlist is used to view the keyword list \n",
    "print(\"No of keywords: \",len(keyword.kwlist))\n",
    "print (dir(keyword))    #prints all the attributes used in this module"
   ]
  },
  {
   "cell_type": "code",
   "execution_count": 9,
   "metadata": {},
   "outputs": [
    {
     "name": "stdout",
     "output_type": "stream",
     "text": [
      "['False', 'None', 'True', 'and', 'as', 'assert', 'async', 'await', 'break', 'class', 'continue', 'def', 'del', 'elif', 'else', 'except', 'finally', 'for', 'from', 'global', 'if', 'import', 'in', 'is', 'lambda', 'nonlocal', 'not', 'or', 'pass', 'raise', 'return', 'try', 'while', 'with', 'yield']\n"
     ]
    }
   ],
   "source": [
    "import builtins\n",
    "print(keyword.kwlist)"
   ]
  },
  {
   "cell_type": "code",
   "execution_count": 11,
   "metadata": {},
   "outputs": [
    {
     "name": "stdout",
     "output_type": "stream",
     "text": [
      "Enter your name : nidhi\n",
      "nidhi\n"
     ]
    }
   ],
   "source": [
    "name = input(\"Enter your name : \")\n",
    "print(name)"
   ]
  },
  {
   "cell_type": "code",
   "execution_count": 14,
   "metadata": {},
   "outputs": [
    {
     "name": "stdout",
     "output_type": "stream",
     "text": [
      "hello world\n",
      "hello world\n",
      "hello world\n",
      "hello world\n",
      "hello world\n"
     ]
    }
   ],
   "source": [
    "import time \n",
    "\n",
    "for var in range(5): \n",
    "    print(\"hello world\")\n",
    "    time.sleep(1)"
   ]
  },
  {
   "cell_type": "code",
   "execution_count": 16,
   "metadata": {},
   "outputs": [
    {
     "name": "stdout",
     "output_type": "stream",
     "text": [
      " Volume in drive C has no label.\n",
      " Volume Serial Number is 309F-92F6\n",
      "\n",
      " Directory of C:\\Users\\hp\n",
      "\n",
      "13-05-2019  19:24    <DIR>          .\n",
      "13-05-2019  19:24    <DIR>          ..\n",
      "17-01-2019  19:39    <DIR>          .anaconda\n",
      "10-05-2019  22:07    <DIR>          .atom\n",
      "13-05-2019  19:25    <DIR>          .conda\n",
      "13-05-2019  18:22                43 .condarc\n",
      "27-01-2019  22:55    <DIR>          .dotnet\n",
      "11-05-2019  12:36                64 .gitconfig\n",
      "13-05-2019  11:17    <DIR>          .ipynb_checkpoints\n",
      "18-01-2019  09:09    <DIR>          .ipython\n",
      "13-05-2019  11:13    <DIR>          .jupyter\n",
      "18-01-2019  09:09    <DIR>          .matplotlib\n",
      "19-01-2019  09:03    <DIR>          .spyder-py3\n",
      "27-01-2019  22:35    <DIR>          .templateengine\n",
      "11-05-2019  19:21            12,328 _viminfo\n",
      "17-01-2019  19:28    <DIR>          Anaconda3\n",
      "13-05-2019  19:24             7,016 data types.ipynb\n",
      "11-05-2019  11:54    <DIR>          Desktop\n",
      "17-01-2019  19:51    <DIR>          Documents\n",
      "28-08-2018  13:54    <DIR>          Intel\n",
      "13-05-2019  11:34                50 output.txt\n",
      "24-12-2018  23:14    <DIR>          source\n",
      "               5 File(s)         19,501 bytes\n",
      "              17 Dir(s)  54,188,679,168 bytes free\n"
     ]
    }
   ],
   "source": [
    "ls"
   ]
  },
  {
   "cell_type": "code",
   "execution_count": 22,
   "metadata": {},
   "outputs": [
    {
     "name": "stdout",
     "output_type": "stream",
     "text": [
      "**********\n",
      "*********\n",
      "********\n",
      "*******\n",
      "******\n",
      "*****\n",
      "****\n",
      "***\n",
      "**\n",
      "*\n"
     ]
    }
   ],
   "source": [
    "for var in range(10): \n",
    "    print(\"*\"*(10-var))"
   ]
  },
  {
   "cell_type": "code",
   "execution_count": 24,
   "metadata": {},
   "outputs": [
    {
     "name": "stdout",
     "output_type": "stream",
     "text": [
      "\n",
      "*\n",
      "**\n",
      "***\n",
      "****\n",
      "*****\n",
      "******\n",
      "*******\n",
      "********\n",
      "*********\n"
     ]
    }
   ],
   "source": [
    "for var in range(10): \n",
    "    print(\"*\"*var)"
   ]
  },
  {
   "cell_type": "code",
   "execution_count": 25,
   "metadata": {},
   "outputs": [
    {
     "name": "stdout",
     "output_type": "stream",
     "text": [
      "namenidhi\n",
      "hello world\n",
      "nidhi\n",
      "None\n"
     ]
    }
   ],
   "source": [
    "x = input(\"name\")\n",
    "y = print(\"hello world\")\n",
    "print(x)\n",
    "print(y)"
   ]
  },
  {
   "cell_type": "markdown",
   "metadata": {},
   "source": [
    "## Regular Expression"
   ]
  },
  {
   "cell_type": "code",
   "execution_count": 27,
   "metadata": {},
   "outputs": [],
   "source": [
    "import re\n",
    "# wild cards \n",
    "#  * --> zero or more repeatation a* '', 'a','aa','aaa','aaaaaaaaa' \n",
    "#  + --> one or moere repatation a+ 'a', 'aa','aaaa'\n",
    "#  ? --> may be or may not be \"humans?\" \"human\" \"humans\"\n",
    "#  . --> charater class including spaces and special character"
   ]
  },
  {
   "cell_type": "code",
   "execution_count": 38,
   "metadata": {},
   "outputs": [
    {
     "name": "stdout",
     "output_type": "stream",
     "text": [
      "['', '', 'll', '', '', '', '', '', 'l', '', '', '', '', '', '', '', '', 'l', '', '', '', '', '', '', '', '', '', '', '', '']\n",
      "['ll', 'l', 'l']\n"
     ]
    }
   ],
   "source": [
    "ans = re.compile(r\"l*\")\n",
    "ans1 = re.compile(r\"l+\")\n",
    "s= \"Hello world. Lets learn python\"\n",
    "data = re.findall(ans,s)  #findall finds all the matches and returns them as a list of strings \n",
    "#with each string represnting one match\n",
    "print(data)\n",
    "data1 = re.findall(ans1,s)\n",
    "print(data1)"
   ]
  },
  {
   "cell_type": "code",
   "execution_count": 40,
   "metadata": {},
   "outputs": [
    {
     "data": {
      "text/plain": [
       "['2937987934',\n",
       " '1927493279',\n",
       " '2347329432',\n",
       " '2937498132',\n",
       " '3298473294',\n",
       " '9479283749',\n",
       " '9782131159']"
      ]
     },
     "execution_count": 40,
     "metadata": {},
     "output_type": "execute_result"
    }
   ],
   "source": [
    "s = \"\"\"\n",
    "hello some number is 2937987934asjfdlkj\n",
    "and another 19274932794837\n",
    "sa;dflk;sdafjlsfsdjfls 23473294324\n",
    "lfjsdalkfjslk;adfj \n",
    "29374981327984b\n",
    "iuroiewuoirewuoiruewob 329847329479234\n",
    "qwreuoiewuroiewr 947928374983279432\n",
    "  hello 9782131159\n",
    "wiqruoiewruoweruwoeqr\"\"\"\n",
    "pat = re.compile(r\"[0-9]{10}\")\n",
    "re.findall(pat,s)"
   ]
  },
  {
   "cell_type": "code",
   "execution_count": 42,
   "metadata": {},
   "outputs": [
    {
     "data": {
      "text/plain": [
       "['mayer', 'mayor', 'mayerr', 'meyer', 'mayur']"
      ]
     },
     "execution_count": 42,
     "metadata": {},
     "output_type": "execute_result"
    }
   ],
   "source": [
    "s = \"\"\"\n",
    "mayer can be mayor or mayier\n",
    "mayerr meyer mayur \n",
    "\"\"\"\n",
    "data = re.findall(r\"m[ae]y[eaiou]rr?\",s)\n",
    "data"
   ]
  },
  {
   "cell_type": "code",
   "execution_count": 5,
   "metadata": {},
   "outputs": [
    {
     "name": "stdout",
     "output_type": "stream",
     "text": [
      "<class 'int'>\n"
     ]
    }
   ],
   "source": [
    "x=5\n",
    "print(type(x))"
   ]
  },
  {
   "cell_type": "code",
   "execution_count": 3,
   "metadata": {},
   "outputs": [
    {
     "name": "stdout",
     "output_type": "stream",
     "text": [
      "Enter string: hey\n",
      "Not a string\n"
     ]
    }
   ],
   "source": [
    "import re\n",
    "pat=re.compile(r\"[a-z][A-Z]\")   #doubt\n",
    "r=input(\"Enter string: \")\n",
    "if pat.match(r):\n",
    "    print(\"String\")\n",
    "else:\n",
    "    print(\"Not a string\")"
   ]
  },
  {
   "cell_type": "code",
   "execution_count": null,
   "metadata": {},
   "outputs": [],
   "source": [
    " x = int(input(\"integer plese \"))\n",
    "input(\"en\")"
   ]
  },
  {
   "cell_type": "code",
   "execution_count": null,
   "metadata": {},
   "outputs": [],
   "source": [
    "x = int(input(\"integer plese \"))"
   ]
  }
 ],
 "metadata": {
  "kernelspec": {
   "display_name": "Python 3",
   "language": "python",
   "name": "python3"
  },
  "language_info": {
   "codemirror_mode": {
    "name": "ipython",
    "version": 3
   },
   "file_extension": ".py",
   "mimetype": "text/x-python",
   "name": "python",
   "nbconvert_exporter": "python",
   "pygments_lexer": "ipython3",
   "version": "3.7.3"
  }
 },
 "nbformat": 4,
 "nbformat_minor": 2
}
