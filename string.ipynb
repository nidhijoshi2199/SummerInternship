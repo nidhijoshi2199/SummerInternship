{
 "cells": [
  {
   "cell_type": "code",
   "execution_count": 4,
   "metadata": {},
   "outputs": [],
   "source": [
    "s=\"hello world\""
   ]
  },
  {
   "cell_type": "code",
   "execution_count": 5,
   "metadata": {},
   "outputs": [
    {
     "name": "stdout",
     "output_type": "stream",
     "text": [
      "<class 'str'>\n"
     ]
    }
   ],
   "source": [
    "print(type(s))"
   ]
  },
  {
   "cell_type": "code",
   "execution_count": 8,
   "metadata": {},
   "outputs": [
    {
     "name": "stdout",
     "output_type": "stream",
     "text": [
      "['__add__', '__class__', '__contains__', '__delattr__', '__dir__', '__doc__', '__eq__', '__format__', '__ge__', '__getattribute__', '__getitem__', '__getnewargs__', '__gt__', '__hash__', '__init__', '__init_subclass__', '__iter__', '__le__', '__len__', '__lt__', '__mod__', '__mul__', '__ne__', '__new__', '__reduce__', '__reduce_ex__', '__repr__', '__rmod__', '__rmul__', '__setattr__', '__sizeof__', '__str__', '__subclasshook__', 'capitalize', 'casefold', 'center', 'count', 'encode', 'endswith', 'expandtabs', 'find', 'format', 'format_map', 'index', 'isalnum', 'isalpha', 'isascii', 'isdecimal', 'isdigit', 'isidentifier', 'islower', 'isnumeric', 'isprintable', 'isspace', 'istitle', 'isupper', 'join', 'ljust', 'lower', 'lstrip', 'maketrans', 'partition', 'replace', 'rfind', 'rindex', 'rjust', 'rpartition', 'rsplit', 'rstrip', 'split', 'splitlines', 'startswith', 'strip', 'swapcase', 'title', 'translate', 'upper', 'zfill']\n"
     ]
    }
   ],
   "source": [
    "print(dir(str))"
   ]
  },
  {
   "cell_type": "code",
   "execution_count": 19,
   "metadata": {},
   "outputs": [
    {
     "name": "stdout",
     "output_type": "stream",
     "text": [
      "True\n",
      "140705300452288\n",
      "140705300452288\n"
     ]
    }
   ],
   "source": [
    "x=5    #string is immutable so the id remains same\n",
    "y=5\n",
    "d=x is y\n",
    "print(d)\n",
    "print(id(x))\n",
    "print(id(y))"
   ]
  },
  {
   "cell_type": "code",
   "execution_count": 13,
   "metadata": {},
   "outputs": [
    {
     "name": "stdout",
     "output_type": "stream",
     "text": [
      "False\n",
      "147412423056\n",
      "147412422704\n"
     ]
    }
   ],
   "source": [
    "a=983982123\n",
    "b=983982123\n",
    "bool=x is y\n",
    "print(b)\n",
    "print(id(x))\n",
    "print(id(y)) \n",
    "#id will be different because the no. is too large"
   ]
  },
  {
   "cell_type": "code",
   "execution_count": 38,
   "metadata": {},
   "outputs": [],
   "source": [
    "st=\"      Hello world         \""
   ]
  },
  {
   "cell_type": "code",
   "execution_count": 39,
   "metadata": {},
   "outputs": [
    {
     "data": {
      "text/plain": [
       "'Hello world'"
      ]
     },
     "execution_count": 39,
     "metadata": {},
     "output_type": "execute_result"
    }
   ],
   "source": [
    "st.strip()"
   ]
  },
  {
   "cell_type": "code",
   "execution_count": 40,
   "metadata": {},
   "outputs": [
    {
     "name": "stdout",
     "output_type": "stream",
     "text": [
      "      Hello world\n",
      "Hello world         \n",
      "      Hello world         \n",
      "heyy world\n"
     ]
    }
   ],
   "source": [
    "print(st.rstrip())\n",
    "print(st.lstrip())\n",
    "print(st)\n",
    "st=\"heyy world\"\n",
    "print(st)"
   ]
  },
  {
   "cell_type": "raw",
   "metadata": {},
   "source": []
  },
  {
   "cell_type": "code",
   "execution_count": 43,
   "metadata": {},
   "outputs": [
    {
     "name": "stdout",
     "output_type": "stream",
     "text": [
      "hey world \n",
      " lets learn python \t All the best\n",
      "'hey world \\n lets learn python \\t All the best'\n"
     ]
    }
   ],
   "source": [
    "st = \"hey world \\n lets learn python \\t All the best\"\n",
    "print(st)\n",
    "print(repr(st))"
   ]
  },
  {
   "cell_type": "code",
   "execution_count": 44,
   "metadata": {
    "scrolled": true
   },
   "outputs": [
    {
     "name": "stdout",
     "output_type": "stream",
     "text": [
      "id of s =  147311922248\n",
      "Before strip s =  '     Helllo World     '\n",
      "id of s =  147312110576\n",
      "After strip s =  'Helllo World'\n"
     ]
    }
   ],
   "source": [
    "s = \"     Helllo World     \"\n",
    "print(\"id of s = \",id(s))\n",
    "print(\"Before strip s = \",repr(s))\n",
    "s = s.strip()\n",
    "print(\"id of s = \",id(s))\n",
    "print(\"After strip s = \",repr(s)) # str"
   ]
  },
  {
   "cell_type": "code",
   "execution_count": 48,
   "metadata": {},
   "outputs": [
    {
     "name": "stdout",
     "output_type": "stream",
     "text": [
      "['hello']\n",
      "147308472712\n",
      "147311984120\n"
     ]
    }
   ],
   "source": [
    "l = [ 'hello'] # mutalbe\n",
    "print(l)\n",
    "print(id(l))\n",
    "p=\"hello\"\n",
    "print(id(p))"
   ]
  },
  {
   "cell_type": "code",
   "execution_count": 49,
   "metadata": {},
   "outputs": [
    {
     "data": {
      "text/plain": [
       "['hello']"
      ]
     },
     "execution_count": 49,
     "metadata": {},
     "output_type": "execute_result"
    }
   ],
   "source": [
    "['hello']"
   ]
  },
  {
   "cell_type": "code",
   "execution_count": 55,
   "metadata": {},
   "outputs": [
    {
     "name": "stdout",
     "output_type": "stream",
     "text": [
      "hellooo\n",
      "HELLOOO\n",
      "Hellooo World\n",
      "Helloo world hoe are u\n"
     ]
    }
   ],
   "source": [
    "print(\"helLooo\".lower())\n",
    "print(\"hellooo\".upper())\n",
    "print(\"hellooo world\".title())\n",
    "print(\"helloo world hoe are u\".capitalize())"
   ]
  },
  {
   "cell_type": "code",
   "execution_count": 56,
   "metadata": {},
   "outputs": [
    {
     "name": "stdout",
     "output_type": "stream",
     "text": [
      "Enter your choice : yes\n",
      "You are good to go \n"
     ]
    }
   ],
   "source": [
    "choice = input(\"Enter your choice : \").strip().lower()\n",
    "if choice == 'yes' : \n",
    "    print(\"You are good to go \")\n",
    "else : \n",
    "    print(\"Why it is so ? are you unstaisfy ? \")"
   ]
  },
  {
   "cell_type": "code",
   "execution_count": 68,
   "metadata": {},
   "outputs": [
    {
     "name": "stdout",
     "output_type": "stream",
     "text": [
      "Enter your choice : split-the-function\n",
      "['split', 'the', 'function']\n",
      "Why it is so ? are you unstaisfy ? \n"
     ]
    }
   ],
   "source": [
    "choice = input(\"Enter your choice : \").split(\"-\")\n",
    "print(choice)\n",
    "if choice == 'yes' : \n",
    "    print(\"You are good to go \")\n",
    "else : \n",
    "    print(\"Why it is so ? are you unstaisfy ? \")"
   ]
  },
  {
   "cell_type": "code",
   "execution_count": 65,
   "metadata": {},
   "outputs": [
    {
     "name": "stdout",
     "output_type": "stream",
     "text": [
      "The Zen of Python, by Tim Peters\n",
      "\n",
      "Beautiful is better than ugly.\n",
      "Explicit is better than implicit.\n",
      "Simple is better than complex.\n",
      "Complex is better than complicated.\n",
      "Flat is better than nested.\n",
      "Sparse is better than dense.\n",
      "Readability counts.\n",
      "Special cases aren't special enough to break the rules.\n",
      "Although practicality beats purity.\n",
      "Errors should never pass silently.\n",
      "Unless explicitly silenced.\n",
      "In the face of ambiguity, refuse the temptation to guess.\n",
      "There should be one-- and preferably only one --obvious way to do it.\n",
      "Although that way may not be obvious at first unless you're Dutch.\n",
      "Now is better than never.\n",
      "Although never is often better than *right* now.\n",
      "If the implementation is hard to explain, it's a bad idea.\n",
      "If the implementation is easy to explain, it may be a good idea.\n",
      "Namespaces are one honking great idea -- let's do more of those!\n"
     ]
    }
   ],
   "source": [
    "import this"
   ]
  },
  {
   "cell_type": "code",
   "execution_count": 66,
   "metadata": {},
   "outputs": [
    {
     "name": "stdout",
     "output_type": "stream",
     "text": [
      "Hello-world-how-are-you-?\n",
      "['Hello', 'world', 'how', 'are', 'you', '?']\n",
      "Hello world how are you ?\n"
     ]
    }
   ],
   "source": [
    "s = \"Hello-world-how-are-you-?\"\n",
    "print(s)\n",
    "k = s.split('-') #split removes the character in the () from string and returns a list seperated by character in ()\n",
    "print(k)\n",
    "r = ' '.join(k) #join converts a list into a string sepearted by the character given in ''\n",
    "print(r)"
   ]
  },
  {
   "cell_type": "code",
   "execution_count": 69,
   "metadata": {},
   "outputs": [
    {
     "name": "stdout",
     "output_type": "stream",
     "text": [
      "Enter your choice :       y e s      \n",
      "You are good to go \n"
     ]
    }
   ],
   "source": [
    "choice = ''.join(input(\"Enter your choice : \").strip().split(\" \"))\n",
    "if choice == 'yes' : \n",
    "    print(\"You are good to go \")\n",
    "else : \n",
    "    print(\"Why it is so ? are you unstaisfy ? \")"
   ]
  },
  {
   "cell_type": "code",
   "execution_count": 73,
   "metadata": {},
   "outputs": [],
   "source": [
    "k=s.split('-')"
   ]
  },
  {
   "cell_type": "code",
   "execution_count": 76,
   "metadata": {},
   "outputs": [
    {
     "data": {
      "text/plain": [
       "'HELLO WORLD HOW ARE YOU ?'"
      ]
     },
     "execution_count": 76,
     "metadata": {},
     "output_type": "execute_result"
    }
   ],
   "source": [
    "' '.join(k).upper()"
   ]
  },
  {
   "cell_type": "code",
   "execution_count": 77,
   "metadata": {},
   "outputs": [
    {
     "data": {
      "text/plain": [
       "['y', 'e', 's']"
      ]
     },
     "execution_count": 77,
     "metadata": {},
     "output_type": "execute_result"
    }
   ],
   "source": [
    "\"y e s\".split()"
   ]
  },
  {
   "cell_type": "code",
   "execution_count": null,
   "metadata": {},
   "outputs": [],
   "source": []
  }
 ],
 "metadata": {
  "kernelspec": {
   "display_name": "Python 3",
   "language": "python",
   "name": "python3"
  },
  "language_info": {
   "codemirror_mode": {
    "name": "ipython",
    "version": 3
   },
   "file_extension": ".py",
   "mimetype": "text/x-python",
   "name": "python",
   "nbconvert_exporter": "python",
   "pygments_lexer": "ipython3",
   "version": "3.7.3"
  }
 },
 "nbformat": 4,
 "nbformat_minor": 2
}
