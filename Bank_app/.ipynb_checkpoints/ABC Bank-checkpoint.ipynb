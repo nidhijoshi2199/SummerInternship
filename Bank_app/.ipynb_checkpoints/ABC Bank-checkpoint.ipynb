{
 "cells": [
  {
   "cell_type": "code",
   "execution_count": 1,
   "metadata": {},
   "outputs": [],
   "source": [
    "import os\n",
    "import json\n",
    "from getpass import getpass\n",
    "import time \n",
    "\n",
    "\n",
    "\n",
    "bank = { \n",
    "    \n",
    "    1001 : { 'name':'ram', 'bal':5000,'password':'heyram'},\n",
    "    1002 : { 'name':'john','bal':45000,'password':'jhon@cena'},\n",
    "    1003 : { 'name':'yahoo','bal':24342,'password':'google'}\n",
    "    \n",
    "}"
   ]
  },
  {
   "cell_type": "code",
   "execution_count": 21,
   "metadata": {},
   "outputs": [
    {
     "name": "stdout",
     "output_type": "stream",
     "text": [
      "Welcome to ABC Bank Pvt. Ltd.\n",
      "Press the following keys and press enter for the desired choice:\n",
      " 1. Login \n",
      " 2. Credit\n",
      " 3. Debit \n",
      " 4. Register as new User\n",
      "\n",
      "Enter the choice: 3\n",
      "Enter acc 1001\n",
      "Enter password ········\n",
      "Successful login\n",
      "{'name': 'ram', 'bal': 3000, 'password': 'heyram'}\n",
      "Try Again\n"
     ]
    }
   ],
   "source": [
    "print(\"Welcome to ABC Bank Pvt. Ltd.\")\n",
    "\n",
    "noOfAccount=1003\n",
    "entry()"
   ]
  },
  {
   "cell_type": "code",
   "execution_count": 11,
   "metadata": {},
   "outputs": [],
   "source": [
    "#file created with user id and password for every unique user with file name as acc. no\n",
    "def register():\n",
    "    for key,value in bank.items():\n",
    "        name = str(key)+\".json\"\n",
    "        path = 'D:\\\\Documents\\\\Desktop\\\\training\\\\Python\\\\Bank_app\\\\'+name\n",
    "        fp=open(path,'w')\n",
    "        json.dump(value,fp)\n",
    "        fp.close()\n"
   ]
  },
  {
   "cell_type": "code",
   "execution_count": 13,
   "metadata": {},
   "outputs": [],
   "source": [
    "def login(acc_no,password):\n",
    "    name = \"D:\\\\Documents\\\\Desktop\\\\training\\\\Python\\\\Bank_app\\\\\"+acc_no+'.json'\n",
    "    fp = open(name)\n",
    "    data = json.load(fp)\n",
    "    p = data['password']\n",
    "    fp.close()\n",
    "    if(password == p):\n",
    "        print(\"Successful login\")\n",
    "        info(acc_no)\n",
    "    else:\n",
    "        print(\"Access Denied\")\n"
   ]
  },
  {
   "cell_type": "code",
   "execution_count": 7,
   "metadata": {},
   "outputs": [],
   "source": [
    "#credit Function\n",
    "\n",
    "\n",
    "def credit(acc_no,amt):\n",
    "    name = \"D:\\\\Documents\\\\Desktop\\\\training\\\\Python\\\\Bank_app\\\\\"+acc_no+'.json'\n",
    "    if acc_no+'.json' in os.listdir(\"D:\\\\Documents\\\\Desktop\\\\training\\\\Python\\\\Bank_app\\\\\"):\n",
    "        fp = open(name)\n",
    "        data1 = json.load(fp)\n",
    "        d = data1['bal']\n",
    "        fp.close()\n",
    "        print(f\"Previous Amount Rs. {d}\")\n",
    "        d=d+amt\n",
    "        print(f\"Amount Credited. New balance Rs. {d}\")\n",
    "        data1['bal']=d\n",
    "        print(\"Update\")\n",
    "        fp = open(name,'w')\n",
    "        json.dump(data1,fp)\n",
    "        fp.close()\n",
    "    else:\n",
    "        print(\"No such User Exists\")"
   ]
  },
  {
   "cell_type": "code",
   "execution_count": 18,
   "metadata": {},
   "outputs": [],
   "source": [
    "def info (acc_no):\n",
    "    name = 'D:\\\\Documents\\\\Desktop\\\\training\\\\Python\\\\Bank_app\\\\'+acc_no+'.json'\n",
    "    if acc_no+\".json\" in os.listdir('D:\\\\Documents\\\\Desktop\\\\training\\\\Python\\\\Bank_app\\\\'):\n",
    "        fp=open(name)\n",
    "        data1=json.load(fp)\n",
    "        fp.close()\n",
    "        print(data1)\n",
    "    else:\n",
    "        print(\"no such user exists\")\n"
   ]
  },
  {
   "cell_type": "code",
   "execution_count": null,
   "metadata": {},
   "outputs": [],
   "source": []
  },
  {
   "cell_type": "code",
   "execution_count": 17,
   "metadata": {},
   "outputs": [],
   "source": [
    "def entry():\n",
    "    print('''Press the following keys and press enter for the desired choice:''')\n",
    "    print(\" 1. Login \\n 2. Credit\\n 3. Debit \\n 4. Register as new User\\n\")\n",
    "    choice = int(input(\"Enter the choice: \"))\n",
    "    if choice==1:\n",
    "        acc=input(\"Enter acc \")\n",
    "        passwd = getpass(\"Enter password \")\n",
    "        login(acc,passwd)\n",
    "    elif choice == 2:\n",
    "        acc= input(\"Enter acc: \")\n",
    "        amount = int((input(\"Enter the amount to be credited: \")))\n",
    "        credit(acc,amount)\n",
    "    elif choice==3:\n",
    "        acc=input(\"Enter acc \")\n",
    "        passwd = getpass(\"Enter password \")\n",
    "        debit(acc,passwd)\n",
    "    elif choice==4:\n",
    "        print(\"Enter the following details: \")\n",
    "        name = input(\"Enter your name: \")\n",
    "        bal = int(input(\"Enter the amount to be added: \"))\n",
    "        passwd = getpass(\"Enter your password: \")\n",
    "        vpasswd = getpass(\"Verify your password:\")\n",
    "        if (passwd == vpasswd):\n",
    "            print(\"Your account has been created successfully\")\n",
    "            noOfAccount +=1\n",
    "            print(\"Your Account No. is \"+ noOfAccount)\n",
    "        else:\n",
    "            print(\"Your passwords Doesnt matched. Try again\")\n",
    "            entry()\n",
    "    else:\n",
    "        print(\"\\n\\n----Invalid Choice. Try a valid choice----\")\n",
    "        entry()"
   ]
  },
  {
   "cell_type": "code",
   "execution_count": 10,
   "metadata": {},
   "outputs": [
    {
     "data": {
      "text/plain": [
       "['.ipynb_checkpoints', '1001.json', '1002.json', '1003.json', 'ABC Bank.ipynb']"
      ]
     },
     "execution_count": 10,
     "metadata": {},
     "output_type": "execute_result"
    }
   ],
   "source": [
    "os.listdir('D:\\\\Documents\\\\Desktop\\\\training\\\\Python\\\\Bank_app\\\\')"
   ]
  },
  {
   "cell_type": "code",
   "execution_count": 20,
   "metadata": {},
   "outputs": [],
   "source": [
    "def debit (acc_no,password,amt=0):\n",
    "    name = \"D:\\\\Documents\\\\Desktop\\\\training\\\\Python\\\\Bank_app\\\\\"+acc_no+'.json'\n",
    "    if login(acc_no,password):\n",
    "        amt = int(input(\"Please enter the amount you want to debit\"))\n",
    "        fp = open(name)\n",
    "        data1 = json.load(fp)\n",
    "        d=data1['bal']\n",
    "        if(d<amt):\n",
    "            print(\"Insufficient Balance\")\n",
    "        d = d-amt\n",
    "        data1['bal']= d\n",
    "        print(f\"Amount Debited.\\n Current Balance is Rs. {d}\")\n",
    "        fp = open(name,'w')\n",
    "        json.dump(data1,fp)\n",
    "    else:\n",
    "        print(\"Try Again\")"
   ]
  },
  {
   "cell_type": "code",
   "execution_count": null,
   "metadata": {},
   "outputs": [],
   "source": []
  }
 ],
 "metadata": {
  "kernelspec": {
   "display_name": "Python 3",
   "language": "python",
   "name": "python3"
  },
  "language_info": {
   "codemirror_mode": {
    "name": "ipython",
    "version": 3
   },
   "file_extension": ".py",
   "mimetype": "text/x-python",
   "name": "python",
   "nbconvert_exporter": "python",
   "pygments_lexer": "ipython3",
   "version": "3.7.3"
  }
 },
 "nbformat": 4,
 "nbformat_minor": 2
}
