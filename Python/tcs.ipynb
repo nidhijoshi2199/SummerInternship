{
 "cells": [
  {
   "cell_type": "code",
   "execution_count": 8,
   "metadata": {},
   "outputs": [
    {
     "ename": "NameError",
     "evalue": "name 's' is not defined",
     "output_type": "error",
     "traceback": [
      "\u001b[1;31m---------------------------------------------------------------------------\u001b[0m",
      "\u001b[1;31mNameError\u001b[0m                                 Traceback (most recent call last)",
      "\u001b[1;32m<ipython-input-8-014d68b7fdb7>\u001b[0m in \u001b[0;36m<module>\u001b[1;34m\u001b[0m\n\u001b[0;32m      1\u001b[0m \u001b[1;32mfrom\u001b[0m \u001b[0mitertools\u001b[0m \u001b[1;32mimport\u001b[0m \u001b[0mpermutations\u001b[0m\u001b[1;33m\u001b[0m\u001b[1;33m\u001b[0m\u001b[0m\n\u001b[1;32m----> 2\u001b[1;33m \u001b[0mperm\u001b[0m \u001b[1;33m=\u001b[0m \u001b[0mpermutations\u001b[0m\u001b[1;33m(\u001b[0m\u001b[0ms\u001b[0m\u001b[1;33m)\u001b[0m\u001b[1;33m\u001b[0m\u001b[1;33m\u001b[0m\u001b[0m\n\u001b[0m\u001b[0;32m      3\u001b[0m \u001b[1;33m\u001b[0m\u001b[0m\n\u001b[0;32m      4\u001b[0m \u001b[0mst\u001b[0m \u001b[1;33m=\u001b[0m \u001b[0minput\u001b[0m\u001b[1;33m(\u001b[0m\u001b[1;33m)\u001b[0m\u001b[1;33m\u001b[0m\u001b[1;33m\u001b[0m\u001b[0m\n\u001b[0;32m      5\u001b[0m \u001b[0morig\u001b[0m \u001b[1;33m=\u001b[0m \u001b[0mst\u001b[0m\u001b[1;33m\u001b[0m\u001b[1;33m\u001b[0m\u001b[0m\n",
      "\u001b[1;31mNameError\u001b[0m: name 's' is not defined"
     ]
    }
   ],
   "source": [
    "from itertools import permutations\n",
    "perm = permutations(s)\n",
    "\n",
    "st = input()\n",
    "orig = st\n",
    "q = int(input())\n",
    "st_l = []\n",
    "st_l = st\n",
    "f = []\n",
    "\n",
    "for i in range(q):\n",
    "    f.append(input().split())\n",
    "    \n",
    "slist = []\n",
    "for e in f:\n",
    "    ro = e[0]\n",
    "    pos = int(e[1])\n",
    "    if (ro == 'l'):\n",
    "        st = st[-pos:]+st[:-pos]\n",
    "    else:\n",
    "        st = st[pos:]+st[:pos]\n",
    "    \n",
    "    slist.append(st[1])\n",
    "    s = ''.join(slist)\n",
    "    print(slist)\n",
    "\n",
    "def match(ts,l):\n",
    "    for j in perm:\n",
    "        li = ''.join(j)\n",
    "        print(li)\n",
    "        for i in range(len(ts)-len(l)+1):\n",
    "            if li == (ts[i:i+len(l)]):\n",
    "                print('yes')\n",
    "                return\n",
    "            else:\n",
    "                continue\n",
    "                print('no')\n",
    "            \n",
    "match(orig,)\n",
    "    "
   ]
  },
  {
   "cell_type": "code",
   "execution_count": 2,
   "metadata": {},
   "outputs": [],
   "source": [
    "st = 'hello world'"
   ]
  },
  {
   "cell_type": "code",
   "execution_count": 3,
   "metadata": {},
   "outputs": [
    {
     "name": "stdout",
     "output_type": "stream",
     "text": [
      "lo worldhel\n",
      "ello worldh\n",
      "lo worldhel\n"
     ]
    }
   ],
   "source": [
    "slist = []\n",
    "for e in f:\n",
    "    ro = e[0]\n",
    "    pos = int(e[1])\n",
    "    if (ro == 'l'):\n",
    "        st = st[-pos:]+st[:-pos]\n",
    "        print(st)\n",
    "    else:\n",
    "        st = st[pos:]+st[:pos]\n",
    "        print(st)\n",
    "    slist.append(st[0])\n",
    "    s = ''.join(slist)\n",
    "    "
   ]
  },
  {
   "cell_type": "code",
   "execution_count": 4,
   "metadata": {},
   "outputs": [
    {
     "data": {
      "text/plain": [
       "'lel'"
      ]
     },
     "execution_count": 4,
     "metadata": {},
     "output_type": "execute_result"
    }
   ],
   "source": [
    "s"
   ]
  },
  {
   "cell_type": "code",
   "execution_count": 189,
   "metadata": {},
   "outputs": [
    {
     "name": "stdout",
     "output_type": "stream",
     "text": [
      "lel\n",
      "lle\n",
      "ell\n",
      "ell\n",
      "lle\n",
      "lel\n",
      "no\n"
     ]
    }
   ],
   "source": [
    "from itertools import permutations\n",
    "perm = permutations(s)\n",
    "\n",
    "def match(st):\n",
    "    p = 0\n",
    "    for i in perm:\n",
    "        l = ''.join(i)\n",
    "        print(l)\n",
    "        if i == orig[p:p+len(l)]:\n",
    "            print('yes')\n",
    "            p = p+1\n",
    "            return\n",
    "        else:\n",
    "            continue\n",
    "        print('no')\n",
    "    \n",
    "p=0\n",
    "match(st)"
   ]
  },
  {
   "cell_type": "code",
   "execution_count": 73,
   "metadata": {},
   "outputs": [
    {
     "data": {
      "text/plain": [
       "'olleh'"
      ]
     },
     "execution_count": 73,
     "metadata": {},
     "output_type": "execute_result"
    }
   ],
   "source": [
    "if ()\n"
   ]
  },
  {
   "cell_type": "code",
   "execution_count": 81,
   "metadata": {},
   "outputs": [
    {
     "data": {
      "text/plain": [
       "'lo'"
      ]
     },
     "execution_count": 81,
     "metadata": {},
     "output_type": "execute_result"
    }
   ],
   "source": [
    "st[-2:]"
   ]
  },
  {
   "cell_type": "code",
   "execution_count": 78,
   "metadata": {},
   "outputs": [
    {
     "data": {
      "text/plain": [
       "'hel'"
      ]
     },
     "execution_count": 78,
     "metadata": {},
     "output_type": "execute_result"
    }
   ],
   "source": [
    "st[:-2]"
   ]
  },
  {
   "cell_type": "code",
   "execution_count": 152,
   "metadata": {},
   "outputs": [
    {
     "data": {
      "text/plain": [
       "'ldhellowor'"
      ]
     },
     "execution_count": 152,
     "metadata": {},
     "output_type": "execute_result"
    }
   ],
   "source": [
    "st = 'hello world'\n",
    "st[-2:]+st[:-2]  #left shift"
   ]
  },
  {
   "cell_type": "code",
   "execution_count": 169,
   "metadata": {},
   "outputs": [
    {
     "data": {
      "text/plain": [
       "'lo worldhel'"
      ]
     },
     "execution_count": 169,
     "metadata": {},
     "output_type": "execute_result"
    }
   ],
   "source": [
    "ts = 'hello world'\n",
    "ts =ts[3:]+ts[:3]  #right shift\n",
    "ts"
   ]
  },
  {
   "cell_type": "code",
   "execution_count": 105,
   "metadata": {},
   "outputs": [
    {
     "data": {
      "text/plain": [
       "'ld'"
      ]
     },
     "execution_count": 105,
     "metadata": {},
     "output_type": "execute_result"
    }
   ],
   "source": [
    "s = 'heyyworld'\n",
    "pos =2\n",
    "s[-pos:]"
   ]
  },
  {
   "cell_type": "code",
   "execution_count": 2,
   "metadata": {},
   "outputs": [
    {
     "name": "stdout",
     "output_type": "stream",
     "text": [
      "lel\n",
      "no\n",
      "no\n",
      "no\n",
      "no\n",
      "no\n",
      "no\n",
      "no\n",
      "no\n",
      "no\n",
      "no\n",
      "no\n",
      "lle\n",
      "ell\n",
      "ell\n",
      "lle\n",
      "lel\n"
     ]
    }
   ],
   "source": [
    "st ='hello world'\n",
    "s = 'lel'\n",
    "from itertools import permutations\n",
    "perm = permutations(s)\n",
    "\n",
    "\n",
    "def match(ts,l):\n",
    "    p = 0\n",
    "    for j in perm:\n",
    "        li = ''.join(j)\n",
    "        print(li)\n",
    "        while (p < len(ts)):\n",
    "            if (li == ts[p:p+len(li)]):\n",
    "                print('yes')\n",
    "            else:\n",
    "                print('no')\n",
    "            p = p+1\n",
    "        \n",
    "        '''for i in range(len(ts)-len(l)+1):\n",
    "            if li == (ts[i:i+len(l)]):\n",
    "                print('yes')\n",
    "            else:\n",
    "                print('no')'''\n",
    "            \n",
    "\n",
    "match(st,s)"
   ]
  },
  {
   "cell_type": "code",
   "execution_count": 5,
   "metadata": {},
   "outputs": [
    {
     "name": "stdout",
     "output_type": "stream",
     "text": [
      "sanjoli\n",
      "3\n",
      "l 3\n",
      "r 1\n",
      "r 1\n",
      "no\n"
     ]
    }
   ],
   "source": [
    "\n",
    "st = input()\n",
    "orig = st\n",
    "q = int(input())\n",
    "st_l = []\n",
    "st_l = st\n",
    "f = []\n",
    "\n",
    "for i in range(q):\n",
    "    f.append(input().split(' '))\n",
    "    \n",
    "\n",
    "    \n",
    "slist = []\n",
    "for e in f:\n",
    "    ro = e[0]\n",
    "    pos = int(e[1])\n",
    "    if (ro == 'L'):\n",
    "        st = st[-pos:]+st[:-pos]\n",
    "    else:\n",
    "        st = st[pos:]+st[:pos]\n",
    "    slist.append(st[0])\n",
    "    s = ''.join(slist)\n",
    "\n",
    "from itertools import permutations\n",
    "perm = permutations(li)\n",
    "\n",
    "\n",
    "def match(ts,li):\n",
    "    for j in perm:\n",
    "        p = 0\n",
    "        li = ''.join(j)\n",
    "        while (p < len(ts)):\n",
    "            if (li == ts[p:p+len(li)]):\n",
    "                print('YE')\n",
    "                return\n",
    "            p = p+1\n",
    "    print('no')\n",
    "            \n",
    "match(orig,s)"
   ]
  },
  {
   "cell_type": "code",
   "execution_count": 1,
   "metadata": {},
   "outputs": [
    {
     "ename": "NameError",
     "evalue": "name 'f' is not defined",
     "output_type": "error",
     "traceback": [
      "\u001b[1;31m---------------------------------------------------------------------------\u001b[0m",
      "\u001b[1;31mNameError\u001b[0m                                 Traceback (most recent call last)",
      "\u001b[1;32m<ipython-input-1-a9fcd54b25e7>\u001b[0m in \u001b[0;36m<module>\u001b[1;34m\u001b[0m\n\u001b[1;32m----> 1\u001b[1;33m \u001b[0mf\u001b[0m\u001b[1;33m\u001b[0m\u001b[1;33m\u001b[0m\u001b[0m\n\u001b[0m",
      "\u001b[1;31mNameError\u001b[0m: name 'f' is not defined"
     ]
    }
   ],
   "source": [
    "f"
   ]
  },
  {
   "cell_type": "code",
   "execution_count": 3,
   "metadata": {},
   "outputs": [
    {
     "name": "stdout",
     "output_type": "stream",
     "text": [
      "yes\n"
     ]
    }
   ],
   "source": [
    "ts = \"hello world\"\n",
    "p =0\n",
    "li = 'lel'\n",
    "from itertools import permutations\n",
    "perm = permutations(li)\n",
    "\n",
    "\n",
    "def match(ts,li):\n",
    "    for j in perm:\n",
    "        p = 0\n",
    "        li = ''.join(j)\n",
    "        while (p < len(ts)):\n",
    "            if (li == ts[p:p+len(li)]):\n",
    "                print('yes')\n",
    "                return\n",
    "            p = p+1\n",
    "    print('no')\n",
    "            \n",
    "match(ts,li)"
   ]
  },
  {
   "cell_type": "code",
   "execution_count": 6,
   "metadata": {},
   "outputs": [
    {
     "data": {
      "text/plain": [
       "['__add__',\n",
       " '__class__',\n",
       " '__contains__',\n",
       " '__delattr__',\n",
       " '__delitem__',\n",
       " '__dir__',\n",
       " '__doc__',\n",
       " '__eq__',\n",
       " '__format__',\n",
       " '__ge__',\n",
       " '__getattribute__',\n",
       " '__getitem__',\n",
       " '__gt__',\n",
       " '__hash__',\n",
       " '__iadd__',\n",
       " '__imul__',\n",
       " '__init__',\n",
       " '__init_subclass__',\n",
       " '__iter__',\n",
       " '__le__',\n",
       " '__len__',\n",
       " '__lt__',\n",
       " '__mul__',\n",
       " '__ne__',\n",
       " '__new__',\n",
       " '__reduce__',\n",
       " '__reduce_ex__',\n",
       " '__repr__',\n",
       " '__reversed__',\n",
       " '__rmul__',\n",
       " '__setattr__',\n",
       " '__setitem__',\n",
       " '__sizeof__',\n",
       " '__str__',\n",
       " '__subclasshook__',\n",
       " 'append',\n",
       " 'clear',\n",
       " 'copy',\n",
       " 'count',\n",
       " 'extend',\n",
       " 'index',\n",
       " 'insert',\n",
       " 'pop',\n",
       " 'remove',\n",
       " 'reverse',\n",
       " 'sort']"
      ]
     },
     "execution_count": 6,
     "metadata": {},
     "output_type": "execute_result"
    }
   ],
   "source": [
    "dir(list)"
   ]
  },
  {
   "cell_type": "code",
   "execution_count": null,
   "metadata": {},
   "outputs": [],
   "source": []
  }
 ],
 "metadata": {
  "kernelspec": {
   "display_name": "Python 3",
   "language": "python",
   "name": "python3"
  },
  "language_info": {
   "codemirror_mode": {
    "name": "ipython",
    "version": 3
   },
   "file_extension": ".py",
   "mimetype": "text/x-python",
   "name": "python",
   "nbconvert_exporter": "python",
   "pygments_lexer": "ipython3",
   "version": "3.7.3"
  }
 },
 "nbformat": 4,
 "nbformat_minor": 2
}
