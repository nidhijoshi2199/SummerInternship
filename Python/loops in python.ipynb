{
 "cells": [
  {
   "cell_type": "code",
   "execution_count": 1,
   "metadata": {},
   "outputs": [
    {
     "name": "stdout",
     "output_type": "stream",
     "text": [
      "0,1,2,3,4,5,6,7,8,9,"
     ]
    }
   ],
   "source": [
    "for n in range(10):\n",
    "    print(n,end=',')"
   ]
  },
  {
   "cell_type": "code",
   "execution_count": 2,
   "metadata": {},
   "outputs": [],
   "source": [
    "while False:\n",
    "    print(\"Hello world\")\n",
    "    print(\"bye world\")"
   ]
  },
  {
   "cell_type": "code",
   "execution_count": 3,
   "metadata": {},
   "outputs": [
    {
     "name": "stdout",
     "output_type": "stream",
     "text": [
      "                   1    1    1\n",
      "                   2    4    8\n",
      "                   3    9   27\n",
      "                   4   16   64\n",
      "                   5   25  125\n",
      "                   6   36  216\n",
      "                   7   49  343\n",
      "                   8   64  512\n",
      "                   9   81  729\n",
      "                  10  100 1000\n"
     ]
    }
   ],
   "source": [
    "n=1\n",
    "while n<=10:\n",
    "    print(f\"{n:20}{n**2:>5}{n**3:>5}\")\n",
    "    n=n+1"
   ]
  },
  {
   "cell_type": "code",
   "execution_count": null,
   "metadata": {},
   "outputs": [],
   "source": [
    "n=int(input(\"Enter no.\"))\n",
    "i=1\n",
    "sum=0\n",
    "while i<=10:\n",
    "    sum=sum+n\n",
    "    print(f\"{n} * {i} = {sum}\")\n",
    "    i=i+1"
   ]
  },
  {
   "cell_type": "code",
   "execution_count": null,
   "metadata": {},
   "outputs": [],
   "source": [
    "n=int(input(\"Enter no.\"))\n",
    "i=1\n",
    "sum=0\n",
    "while i<=10:\n",
    "    sum=sum+n\n",
    "    print(f\"{(sum-n):<5} + {n} = {sum:5}\")\n",
    "    i=i+1"
   ]
  },
  {
   "cell_type": "code",
   "execution_count": null,
   "metadata": {},
   "outputs": [],
   "source": [
    "n=99\n",
    "while n>=1:\n",
    "    \n",
    "    print(n,end=', ')\n",
    "    n=n-2\n",
    "    "
   ]
  },
  {
   "cell_type": "code",
   "execution_count": null,
   "metadata": {},
   "outputs": [],
   "source": [
    "n=100\n",
    "while n>1:\n",
    "    if(n%7==0 or n%5==0):\n",
    "        print(n,end=', ')\n",
    "    n=n-1"
   ]
  },
  {
   "cell_type": "code",
   "execution_count": null,
   "metadata": {},
   "outputs": [],
   "source": [
    "n=100\n",
    "while n>1:\n",
    "    if(n%7==0 and n%5==0):\n",
    "        print(n,end=', ')\n",
    "    n=n-1"
   ]
  },
  {
   "cell_type": "code",
   "execution_count": null,
   "metadata": {},
   "outputs": [],
   "source": [
    "from random import randint\n",
    ".i=0\n",
    "while i<10:\n",
    "    print(randint(1,10))\n",
    "    i=i+1"
   ]
  },
  {
   "cell_type": "code",
   "execution_count": null,
   "metadata": {},
   "outputs": [],
   "source": [
    "n=0\n",
    "while n<10:\n",
    "    print(n)\n",
    "    n=n+1\n",
    "    if(n>=5):\n",
    "        break"
   ]
  },
  {
   "cell_type": "code",
   "execution_count": null,
   "metadata": {},
   "outputs": [],
   "source": [
    "while True:\n",
    "    n=int(input(\"Enter no\"))\n",
    "    if n in [1,51]:\n",
    "        print(n)\n",
    "    else:\n",
    "        break"
   ]
  },
  {
   "cell_type": "code",
   "execution_count": null,
   "metadata": {},
   "outputs": [],
   "source": [
    "while input(\"Press any key\"):\n",
    "    print(\"hello\")\n",
    "else:\n",
    "    print(\"bye\")\n",
    "    "
   ]
  },
  {
   "cell_type": "code",
   "execution_count": null,
   "metadata": {},
   "outputs": [],
   "source": [
    "n=0\n",
    "while n<10:\n",
    "    print(n)\n",
    "    c=c+1\n",
    "    continue\n",
    "     #never write increment after continue"
   ]
  },
  {
   "cell_type": "code",
   "execution_count": null,
   "metadata": {},
   "outputs": [],
   "source": [
    "c=1\n",
    "while c<=10:\n",
    "    if(c%2==0):\n",
    "        print(c)\n",
    "        c=c+1\n",
    "    else:\n",
    "        c=c+1\n",
    "        continue"
   ]
  },
  {
   "cell_type": "code",
   "execution_count": null,
   "metadata": {},
   "outputs": [],
   "source": [
    "#guess game\n",
    "#every player has 5 chances\n",
    "#range is 1-50\n",
    "#if right print congrats\n",
    "#if all 5 guess are wrong print lost\n",
    "#if "
   ]
  },
  {
   "cell_type": "code",
   "execution_count": null,
   "metadata": {},
   "outputs": [],
   "source": [
    "from random import randint\n",
    "i=randint(1,25)\n",
    "chance=5\n",
    "while chance>0:\n",
    "    guess=int(input(\"Enter your guess\"))\n",
    "    if(guess>25):\n",
    "        print(\"enter valid no.\")\n",
    "        continue\n",
    "    elif(guess==i):\n",
    "        print(\"You won\")\n",
    "        break\n",
    "    else:\n",
    "        print(\"You lost.\")\n",
    "        if(guess<i):\n",
    "            print(\"No. is larger\")\n",
    "        else:\n",
    "            print(\"No is smaller\")\n",
    "    chance=chance-1\n",
    "print(i)"
   ]
  },
  {
   "cell_type": "code",
   "execution_count": null,
   "metadata": {},
   "outputs": [],
   "source": [
    "#tic tac toe\n",
    "#rock paper scisssor"
   ]
  },
  {
   "cell_type": "code",
   "execution_count": null,
   "metadata": {},
   "outputs": [],
   "source": [
    "\n",
    "n=101 \n",
    "k=int(n/2)\n",
    "c=0\n",
    "while n in [101,1000]:\n",
    "    while k>1:\n",
    "        if(n%k==0):\n",
    "            c=c+1\n",
    "        else:\n",
    "            k=k-1\n",
    "\n",
    "if(c==0):\n",
    "    print(f\"There are {c} prime no.s\")\n",
    "    print(\"Prime no\")\n",
    "else:\n",
    "    print(\"not Prime\")"
   ]
  },
  {
   "cell_type": "code",
   "execution_count": null,
   "metadata": {},
   "outputs": [],
   "source": [
    "from math import sqrt, ceil\n",
    "\n"
   ]
  },
  {
   "cell_type": "code",
   "execution_count": 8,
   "metadata": {},
   "outputs": [
    {
     "name": "stdout",
     "output_type": "stream",
     "text": [
      "* \n",
      "* * \n",
      "* * * \n",
      "* * * * \n",
      "* * * * * \n",
      "* * * * * * \n",
      "* * * * * * * \n",
      "* * * * * * * * \n",
      "* * * * * * * * * \n",
      "* * * * * * * * * * \n"
     ]
    }
   ],
   "source": [
    "row=0\n",
    "while row<10:\n",
    "    col=0\n",
    "    while col<10:\n",
    "        if(col<=row):\n",
    "            print(\"*\",end=\" \")\n",
    "        else:\n",
    "            break\n",
    "        col+=1\n",
    "    print()\n",
    "    row+=1\n",
    "        "
   ]
  },
  {
   "cell_type": "code",
   "execution_count": 2,
   "metadata": {},
   "outputs": [
    {
     "name": "stdout",
     "output_type": "stream",
     "text": [
      "  * * * * * * * * * \n",
      "    * * * * * * * * \n",
      "      * * * * * * * \n",
      "        * * * * * * \n",
      "          * * * * * \n",
      "            * * * * \n",
      "              * * * \n",
      "                * * \n",
      "                  * \n",
      "                    \n"
     ]
    }
   ],
   "source": [
    "row=0\n",
    "while row<10:\n",
    "    col=0\n",
    "    while col<10:\n",
    "        if(col<=row):\n",
    "            print(\" \",end=\" \")\n",
    "        else:\n",
    "            print(\"*\",end=\" \")\n",
    "        col+=1\n",
    "    print()\n",
    "    row+=1"
   ]
  },
  {
   "cell_type": "code",
   "execution_count": 1,
   "metadata": {},
   "outputs": [
    {
     "ename": "SyntaxError",
     "evalue": "invalid syntax (<ipython-input-1-84d08cf34d0b>, line 4)",
     "output_type": "error",
     "traceback": [
      "\u001b[1;36m  File \u001b[1;32m\"<ipython-input-1-84d08cf34d0b>\"\u001b[1;36m, line \u001b[1;32m4\u001b[0m\n\u001b[1;33m    if()\u001b[0m\n\u001b[1;37m        ^\u001b[0m\n\u001b[1;31mSyntaxError\u001b[0m\u001b[1;31m:\u001b[0m invalid syntax\n"
     ]
    }
   ],
   "source": [
    "while row<10:\n",
    "    col=0\n",
    "    while col<10:\n",
    "        if()"
   ]
  },
  {
   "cell_type": "code",
   "execution_count": null,
   "metadata": {},
   "outputs": [],
   "source": [
    "print(:Bank system)\n",
    "print(\"select an option\\n1. Login 2. password\""
   ]
  }
 ],
 "metadata": {
  "kernelspec": {
   "display_name": "Python 3",
   "language": "python",
   "name": "python3"
  },
  "language_info": {
   "codemirror_mode": {
    "name": "ipython",
    "version": 3
   },
   "file_extension": ".py",
   "mimetype": "text/x-python",
   "name": "python",
   "nbconvert_exporter": "python",
   "pygments_lexer": "ipython3",
   "version": "3.7.3"
  }
 },
 "nbformat": 4,
 "nbformat_minor": 2
}
